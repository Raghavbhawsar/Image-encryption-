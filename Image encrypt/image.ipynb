{
 "cells": [
  {
   "cell_type": "code",
   "execution_count": 2,
   "id": "d02b9d37-b0de-4037-b22f-ab28dca97c78",
   "metadata": {},
   "outputs": [],
   "source": [
    "from tkinter import *\n"
   ]
  },
  {
   "cell_type": "code",
   "execution_count": 3,
   "id": "a560edf6-1d80-4a8b-b718-921e205da9e5",
   "metadata": {},
   "outputs": [],
   "source": [
    "from tkinter import filedialog"
   ]
  },
  {
   "cell_type": "code",
   "execution_count": 7,
   "id": "2b507053-9641-4bdd-8947-c1ef10935817",
   "metadata": {},
   "outputs": [],
   "source": [
    "root=Tk()\n",
    "root.geometry(\"200x200\")\n",
    "def encrypt_image():\n",
    "    file1=filedialog.askopenfile(mode=\"r\",filetype=[('jpg file ','*.jpg')])\n",
    "    if file1 is not None:\n",
    "        print(file1)\n",
    "        file_name=file1.name\n",
    "        print(file_name)\n",
    "        key=entry1.get(1.0,END)\n",
    "        print(file_name,key)\n",
    "        fi=open(file_name,\"rb\")\n",
    "        image=fi.read()\n",
    "        fi.close()\n",
    "        image=bytearray(image)\n",
    "        for index,values in enumerate(image):\n",
    "            image[index]=values^int(key)\n",
    "            fi1=open(file_name,'wb')\n",
    "            fi1.write(image)\n",
    "            fi1.close()\n",
    "            \n",
    "        \n",
    "        \n",
    "b1=Button(root,text=\"encrypt\",command = encrypt_image)\n",
    "b1.place(x=70,y=20)\n",
    "entry1= Text(root,height=1,width=10)\n",
    "entry1.place(x=50,y=50)\n",
    "root.mainloop()"
   ]
  },
  {
   "cell_type": "code",
   "execution_count": 10,
   "id": "adfa7c96-c79a-42d2-a112-2f4a3e04b890",
   "metadata": {},
   "outputs": [
    {
     "name": "stdout",
     "output_type": "stream",
     "text": [
      "Selected File: C:/Users/ASUS/Desktop/OIP.jpeg\n",
      "Error: Key must be a number\n",
      "Selected File: C:/Users/ASUS/Desktop/OIP (1).jpeg\n",
      "Encryption Key: 5\n",
      "Image encrypted successfully!\n"
     ]
    }
   ],
   "source": [
    "from tkinter import Tk, Button, Text, filedialog, END\n",
    "\n",
    "# Create the main window\n",
    "root = Tk()\n",
    "root.geometry(\"300x200\")\n",
    "root.title(\"Image Encryptor\")\n",
    "\n",
    "def encrypt_image():\n",
    "    # Open a file dialog to select the image\n",
    "    file1 = filedialog.askopenfile(\n",
    "        mode=\"r\", \n",
    "        filetypes=[('Image Files', '*.jpg *.jpeg *.png'), ('JPG Files', '*.jpg *.jpeg'), ('PNG Files', '*.png')]\n",
    "    )\n",
    "    if file1 is not None:\n",
    "        file_name = file1.name\n",
    "        print(f\"Selected File: {file_name}\")\n",
    "        \n",
    "        # Get the encryption key\n",
    "        key = entry1.get(1.0, END).strip()  # Strip to remove unwanted newline characters\n",
    "        if not key.isdigit():  # Validate if key is a number\n",
    "            print(\"Error: Key must be a number\")\n",
    "            return\n",
    "        \n",
    "        key = int(key)\n",
    "        print(f\"Encryption Key: {key}\")\n",
    "        \n",
    "        try:\n",
    "            # Read the image file in binary mode\n",
    "            with open(file_name, \"rb\") as fi:\n",
    "                image = bytearray(fi.read())\n",
    "            \n",
    "            # Encrypt the image using XOR operation\n",
    "            for index, value in enumerate(image):\n",
    "                image[index] = value ^ key\n",
    "            \n",
    "            # Write the encrypted data back to the file\n",
    "            with open(file_name, \"wb\") as fi1:\n",
    "                fi1.write(image)\n",
    "            \n",
    "            print(\"Image encrypted successfully!\")\n",
    "        except Exception as e:\n",
    "            print(f\"An error occurred: {e}\")\n",
    "\n",
    "# Create the Encrypt button\n",
    "b1 = Button(root, text=\"Encrypt\", command=encrypt_image)\n",
    "b1.place(x=110, y=20)\n",
    "\n",
    "# Create the input field for the encryption key\n",
    "entry1 = Text(root, height=1, width=10)\n",
    "entry1.place(x=100, y=70)\n",
    "\n",
    "# Run the main application loop\n",
    "root.mainloop()\n"
   ]
  },
  {
   "cell_type": "code",
   "execution_count": null,
   "id": "37649db6-a799-4b2b-a632-60c131371e54",
   "metadata": {},
   "outputs": [],
   "source": []
  },
  {
   "cell_type": "code",
   "execution_count": null,
   "id": "37b7b1fb-2d86-4327-8b84-bdbae8e36dd5",
   "metadata": {},
   "outputs": [],
   "source": []
  }
 ],
 "metadata": {
  "kernelspec": {
   "display_name": "Python 3 (ipykernel)",
   "language": "python",
   "name": "python3"
  },
  "language_info": {
   "codemirror_mode": {
    "name": "ipython",
    "version": 3
   },
   "file_extension": ".py",
   "mimetype": "text/x-python",
   "name": "python",
   "nbconvert_exporter": "python",
   "pygments_lexer": "ipython3",
   "version": "3.12.4"
  }
 },
 "nbformat": 4,
 "nbformat_minor": 5
}
